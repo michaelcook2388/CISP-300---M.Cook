{
 "cells": [
  {
   "cell_type": "markdown",
   "id": "0504988d",
   "metadata": {},
   "source": [
    "-Format of a string literal\n",
    "    -String literals will always start with f'\n",
    "    -print(f'...')\n",
    "    -curly braces are used to enclose values within the string\n",
    "        -print('{value} ... {value}')"
   ]
  },
  {
   "cell_type": "markdown",
   "id": "b5f802e9",
   "metadata": {},
   "source": [
    "-To output values in a certain format, use the string literal function folllwed by a colon and the base value the desired format is represented as...\n",
    "    -print(f'{value:.2f}')\n",
    "    -print(f'{value:03d}')\n",
    "-To output a integer value as a string, use the \"s\" indicator in the string literal\n",
    "    -print(f'{value:s}')"
   ]
  },
  {
   "cell_type": "markdown",
   "id": "afa16642",
   "metadata": {},
   "source": [
    "-To slice a string, use the notation...\n",
    "    -my_string[start:end:step_size]\n",
    "-Creates a new string, doesn't update the previous one\n",
    "-Step_size is also known as stride\n",
    "-"
   ]
  }
 ],
 "metadata": {
  "kernelspec": {
   "display_name": ".venv",
   "language": "python",
   "name": "python3"
  },
  "language_info": {
   "name": "python",
   "version": "3.14.0"
  }
 },
 "nbformat": 4,
 "nbformat_minor": 5
}
