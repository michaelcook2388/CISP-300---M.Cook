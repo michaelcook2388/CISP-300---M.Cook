{
 "cells": [
  {
   "cell_type": "code",
   "execution_count": 3,
   "id": "ba5c9111",
   "metadata": {},
   "outputs": [],
   "source": [
    "# Three parts:\n",
    "# Part 1: make sure to modify the WID() function to return your WID.\n",
    "# Part 2: read, execute, and review the functions.  No changes needed.\n",
    "# Part 3: complete the two functions as specified.\n",
    "#\n",
    "# Submit the whole file and respond to two other people after testing their code.\n",
    "\n",
    "#####\n",
    "#\n",
    "# Part 1. Replace 'yourwid' with your WID\n",
    "#         \n",
    "def WID():\n",
    "  return(\"W2219998\")\n"
   ]
  },
  {
   "cell_type": "code",
   "execution_count": null,
   "id": "faac2f42",
   "metadata": {},
   "outputs": [
    {
     "name": "stdout",
     "output_type": "stream",
     "text": [
      "(2, 9)\n"
     ]
    },
    {
     "data": {
      "text/plain": [
       "(2, 9)"
      ]
     },
     "execution_count": 7,
     "metadata": {},
     "output_type": "execute_result"
    }
   ],
   "source": [
    "#####\n",
    "#\n",
    "# PART 2. Just read, execute, and understand. No changes necessary.\n",
    "#\n",
    "# 2a and 2b. Understand that fuctions averageOf and avarageOfV2 are equivalent.\n",
    "#    averageOfV2 simply uses some temporary local variables along the way\n",
    "#    to producing the same result.  It's probably not necessary in these simple\n",
    "#    functions BUT I STRONGLY ENCOURAGE you to write simple lines of code and\n",
    "#    use temporary variables with MEANINGFUL names.  For complex functions, it\n",
    "#    can be SUPER USEFUL for readability and debugging.\n",
    "# 2c and 2d. Make sure you understand the difference between print and return\n",
    "\n",
    "# First, a function that *returns* the average of three numbers. Two versions:\n",
    "#\n",
    "# 2a. without using additional variables\n",
    "#\n",
    "def averageOf(num1, num2, num3):\n",
    "    return( (num1 + num2 + num3) / 3 )\n",
    "\n",
    "# 2b. using additional variables for intermediate results - a good habit\n",
    "#\n",
    "def averageOfV2(num1, num2, num3):\n",
    "    sumOfInputs = num1 + num2 + num3\n",
    "    average = sumOfInputs / 3\n",
    "    return average\n",
    "\n",
    "# Next two functions that are similar except that one *prints* and one *returns* values.\n",
    "#\n",
    "# 2c. printMinAndMax *prints* values rather than *returning* results\n",
    "#\n",
    "def printMinAndMax(num1, num2, num3):\n",
    "    minOfInputs = min(num1, num2, num3)\n",
    "    maxOfInputs = max(num1, num2, num3)\n",
    "    print((minOfInputs, maxOfInputs))\n",
    "\n",
    "# 2d. *Similar* to 2c above but importantly different.  Does not print anything.\n",
    "# Returns value for caller to use as desired.\n",
    "#\n",
    "def returnMinAndMax(num1, num2, num3):\n",
    "    minOfInputs = min(num1, num2, num3)\n",
    "    maxOfInputs = max(num1, num2, num3)\n",
    "    return (minOfInputs, maxOfInputs)\n",
    "\n",
    "# Try in Python shell:\n",
    "# >>> printMinAndMax(2, 9, 3)\n",
    "# >>> returnMinAndMax(2, 9, 3)\n",
    "# Results in the Python shell might look the same but different things are happening.\n",
    "# Continue with\n",
    "# >>> minAndMax = printMinAndMax(2, 9, 3)\n",
    "# (2, 9)\n",
    "# >>> minAndMax\n",
    "# >>>\n",
    "# and compare with\n",
    "# >>> minAndMax = returnMinAndMax(2, 9, 3)\n",
    "# >>> minAndMax\n",
    "# (2, 9)\n",
    "# >>>\n",
    "# Understand the difference!!\n",
    "\n",
    "printMinAndMax(2, 9, 3)\n",
    "returnMinAndMax(2, 9, 3)"
   ]
  },
  {
   "cell_type": "code",
   "execution_count": 8,
   "id": "0ad684d4",
   "metadata": {},
   "outputs": [],
   "source": [
    "#####\n",
    "#\n",
    "# Part 3.\n",
    "#\n",
    "# 3a. Complete simple function kilometersFromMiles(miles)\n",
    "# that takes a floating point value, miles, representing a distance in miles and returns\n",
    "# a floating value equal to the same distance expressed in kilometers. Use a good conversion\n",
    "# factor; try to use official \"SI\" factors!\n",
    "#   \n",
    "def kilometersFromMiles(miles):\n",
    "    km = miles * 0.621371\n",
    "    return km\n",
    "\n",
    "# 3b. Complete simple function litersFromGallons(gallons)\n",
    "# that takes a floating point value, gallons, representing a volume in gallons and returns\n",
    "# a floating value equal to the same volume expressed in liters. Use a good conversion\n",
    "# factor; try to use official \"SI\" factors!\n",
    "#   \n",
    "def litersFromGallons(gallons):\n",
    "    Liters = gallons * 3.78541\n",
    "    return Liters "
   ]
  }
 ],
 "metadata": {
  "kernelspec": {
   "display_name": "base",
   "language": "python",
   "name": "python3"
  },
  "language_info": {
   "codemirror_mode": {
    "name": "ipython",
    "version": 3
   },
   "file_extension": ".py",
   "mimetype": "text/x-python",
   "name": "python",
   "nbconvert_exporter": "python",
   "pygments_lexer": "ipython3",
   "version": "3.12.7"
  }
 },
 "nbformat": 4,
 "nbformat_minor": 5
}
